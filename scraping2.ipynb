{
 "cells": [
  {
   "cell_type": "code",
   "execution_count": 7,
   "metadata": {},
   "outputs": [],
   "source": [
    "from bs4 import BeautifulSoup\n",
    "import requests\n",
    "import pandas as pd"
   ]
  },
  {
   "cell_type": "code",
   "execution_count": 8,
   "metadata": {},
   "outputs": [],
   "source": [
    "url = 'https://realpython.github.io/fake-jobs/'\n",
    "headers = {'Accept-Language': 'en-US,en;q=0.8'}\n"
   ]
  },
  {
   "cell_type": "code",
   "execution_count": 9,
   "metadata": {},
   "outputs": [
    {
     "name": "stdout",
     "output_type": "stream",
     "text": [
      "Code ran\n"
     ]
    }
   ],
   "source": [
    "r = requests.get(url, headers = headers)\n",
    "s = BeautifulSoup(r.text, \"html.parser\")\n",
    "print(\"code works\")"
   ]
  },
  {
   "cell_type": "code",
   "execution_count": 11,
   "metadata": {},
   "outputs": [],
   "source": [
    "company_name = []\n",
    "position = []\n",
    "date = []\n",
    "location = []\n",
    "\n",
    "for x in s.select(\"div h3.subtitle.is-6.company\"):\n",
    "    company_name_text = x.get_text().strip()\n",
    "    company_name.append(company_name_text)\n",
    "for x in s.select('div h2.title.is-5'):\n",
    "    position_text = x.get_text().strip()  \n",
    "    position.append(position_text)\n",
    "for x in s.select('div p time'):\n",
    "    date_text = x.get_text().strip()  \n",
    "    date.append(date_text)\n",
    "for x in s.select('div p.location'):\n",
    "    location_text = x.get_text().strip() \n",
    "    location.append(location_text)\n"
   ]
  },
  {
   "cell_type": "code",
   "execution_count": 13,
   "metadata": {},
   "outputs": [
    {
     "name": "stdout",
     "output_type": "stream",
     "text": [
      "                 company name                 position  date added  \\\n",
      "0    Payne, Roberts and Davis  Senior Python Developer  2021-04-08   \n",
      "1            Vasquez-Davidson          Energy engineer  2021-04-08   \n",
      "2  Jackson, Chambers and Levy          Legal executive  2021-04-08   \n",
      "3              Savage-Bradley   Fitness centre manager  2021-04-08   \n",
      "4                 Ramirez Inc          Product manager  2021-04-08   \n",
      "\n",
      "               location  \n",
      "0       Stewartbury, AA  \n",
      "1  Christopherville, AA  \n",
      "2   Port Ericaburgh, AA  \n",
      "3     East Seanview, AP  \n",
      "4   North Jamieview, AP  \n"
     ]
    }
   ],
   "source": [
    "dataframe = pd.DataFrame(\n",
    "    {\n",
    "    'company name': company_name,\n",
    "    'position': position,\n",
    "    'date added': date,\n",
    "    'location': location,\n",
    "    }\n",
    "    )\n",
    "\n",
    "print (dataframe.head())\n",
    "\n",
    "dataframe.to_csv('Fake_Pyhton.csv', index=False)"
   ]
  }
 ],
 "metadata": {
  "kernelspec": {
   "display_name": "base",
   "language": "python",
   "name": "python3"
  },
  "language_info": {
   "codemirror_mode": {
    "name": "ipython",
    "version": 3
   },
   "file_extension": ".py",
   "mimetype": "text/x-python",
   "name": "python",
   "nbconvert_exporter": "python",
   "pygments_lexer": "ipython3",
   "version": "3.9.12"
  },
  "orig_nbformat": 4
 },
 "nbformat": 4,
 "nbformat_minor": 2
}
